{
 "cells": [
  {
   "cell_type": "code",
   "execution_count": 4,
   "id": "a89417e0",
   "metadata": {},
   "outputs": [],
   "source": [
    "from package.get_tools import get_tools"
   ]
  },
  {
   "cell_type": "code",
   "execution_count": 8,
   "id": "d233e7f0",
   "metadata": {},
   "outputs": [],
   "source": [
    "tools = await get_tools()"
   ]
  },
  {
   "cell_type": "code",
   "execution_count": 7,
   "id": "8d5f397a",
   "metadata": {},
   "outputs": [
    {
     "data": {
      "text/plain": [
       "[Tool(name='add', description='Add\\n\\nAdd two numbers\\n\\nArgs:\\n    a (int): first number\\n    b (int): second number\\n    \\nReturns:\\n    dict: a dictionary with the sum\\n\\n### Responses:\\n\\n**200**: Successful Response (Success Response)\\nContent-Type: application/json\\n\\n**Output Schema:**\\n```json\\n{\\n  \"type\": \"object\",\\n  \"additionalProperties\": true,\\n  \"title\": \"Response Add\"\\n}\\n```\\n**422**: Validation Error\\nContent-Type: application/json\\n\\n**Example Response:**\\n```json\\n{\\n  \"detail\": [\\n    {\\n      \"loc\": [],\\n      \"msg\": \"Message\",\\n      \"type\": \"Error Type\"\\n    }\\n  ]\\n}\\n```\\n\\n**Output Schema:**\\n```json\\n{\\n  \"properties\": {\\n    \"detail\": {\\n      \"items\": {\\n        \"properties\": {\\n          \"loc\": {\\n            \"items\": {},\\n            \"type\": \"array\",\\n            \"title\": \"Location\"\\n          },\\n          \"msg\": {\\n            \"type\": \"string\",\\n            \"title\": \"Message\"\\n          },\\n          \"type\": {\\n            \"type\": \"string\",\\n            \"title\": \"Error Type\"\\n          }\\n        },\\n        \"type\": \"object\",\\n        \"required\": [\\n          \"loc\",\\n          \"msg\",\\n          \"type\"\\n        ],\\n        \"title\": \"ValidationError\"\\n      },\\n      \"type\": \"array\",\\n      \"title\": \"Detail\"\\n    }\\n  },\\n  \"type\": \"object\",\\n  \"title\": \"HTTPValidationError\"\\n}\\n```', inputSchema={'type': 'object', 'properties': {'a': {'type': 'integer', 'title': 'a'}, 'b': {'type': 'integer', 'title': 'b'}}, 'title': 'addArguments', 'required': ['a', 'b']}, annotations=None),\n",
       " Tool(name='subtract', description='Subtract\\n\\nSubtract two numbers\\n\\nArgs:\\n    a (int): first number\\n    b (int): second number\\n    \\nReturns:\\n    dict: a dictionary with the difference\\n\\n### Responses:\\n\\n**200**: Successful Response (Success Response)\\nContent-Type: application/json\\n\\n**Output Schema:**\\n```json\\n{\\n  \"type\": \"object\",\\n  \"additionalProperties\": true,\\n  \"title\": \"Response Subtract\"\\n}\\n```\\n**422**: Validation Error\\nContent-Type: application/json\\n\\n**Example Response:**\\n```json\\n{\\n  \"detail\": [\\n    {\\n      \"loc\": [],\\n      \"msg\": \"Message\",\\n      \"type\": \"Error Type\"\\n    }\\n  ]\\n}\\n```\\n\\n**Output Schema:**\\n```json\\n{\\n  \"properties\": {\\n    \"detail\": {\\n      \"items\": {\\n        \"properties\": {\\n          \"loc\": {\\n            \"items\": {},\\n            \"type\": \"array\",\\n            \"title\": \"Location\"\\n          },\\n          \"msg\": {\\n            \"type\": \"string\",\\n            \"title\": \"Message\"\\n          },\\n          \"type\": {\\n            \"type\": \"string\",\\n            \"title\": \"Error Type\"\\n          }\\n        },\\n        \"type\": \"object\",\\n        \"required\": [\\n          \"loc\",\\n          \"msg\",\\n          \"type\"\\n        ],\\n        \"title\": \"ValidationError\"\\n      },\\n      \"type\": \"array\",\\n      \"title\": \"Detail\"\\n    }\\n  },\\n  \"type\": \"object\",\\n  \"title\": \"HTTPValidationError\"\\n}\\n```', inputSchema={'type': 'object', 'properties': {'a': {'type': 'integer', 'title': 'a'}, 'b': {'type': 'integer', 'title': 'b'}}, 'title': 'subtractArguments', 'required': ['a', 'b']}, annotations=None),\n",
       " Tool(name='multiply', description='Multiply\\n\\nMultiply two numbers\\n\\nArgs:\\n    a (int): first number\\n    b (int): second number\\n    \\nReturns:\\n    dict: a dictionary with the product\\n\\n### Responses:\\n\\n**200**: Successful Response (Success Response)\\nContent-Type: application/json\\n\\n**Output Schema:**\\n```json\\n{\\n  \"type\": \"object\",\\n  \"additionalProperties\": true,\\n  \"title\": \"Response Multiply\"\\n}\\n```\\n**422**: Validation Error\\nContent-Type: application/json\\n\\n**Example Response:**\\n```json\\n{\\n  \"detail\": [\\n    {\\n      \"loc\": [],\\n      \"msg\": \"Message\",\\n      \"type\": \"Error Type\"\\n    }\\n  ]\\n}\\n```\\n\\n**Output Schema:**\\n```json\\n{\\n  \"properties\": {\\n    \"detail\": {\\n      \"items\": {\\n        \"properties\": {\\n          \"loc\": {\\n            \"items\": {},\\n            \"type\": \"array\",\\n            \"title\": \"Location\"\\n          },\\n          \"msg\": {\\n            \"type\": \"string\",\\n            \"title\": \"Message\"\\n          },\\n          \"type\": {\\n            \"type\": \"string\",\\n            \"title\": \"Error Type\"\\n          }\\n        },\\n        \"type\": \"object\",\\n        \"required\": [\\n          \"loc\",\\n          \"msg\",\\n          \"type\"\\n        ],\\n        \"title\": \"ValidationError\"\\n      },\\n      \"type\": \"array\",\\n      \"title\": \"Detail\"\\n    }\\n  },\\n  \"type\": \"object\",\\n  \"title\": \"HTTPValidationError\"\\n}\\n```', inputSchema={'type': 'object', 'properties': {'a': {'type': 'integer', 'title': 'a'}, 'b': {'type': 'integer', 'title': 'b'}}, 'title': 'multiplyArguments', 'required': ['a', 'b']}, annotations=None)]"
      ]
     },
     "execution_count": 7,
     "metadata": {},
     "output_type": "execute_result"
    }
   ],
   "source": [
    "tools"
   ]
  },
  {
   "cell_type": "code",
   "execution_count": 20,
   "id": "e918498d",
   "metadata": {},
   "outputs": [],
   "source": [
    "from broai.llm_management.ollama import BedrockOllamaChat\n",
    "import json\n",
    "model = BedrockOllamaChat()"
   ]
  },
  {
   "cell_type": "code",
   "execution_count": 9,
   "id": "41be13f4",
   "metadata": {},
   "outputs": [
    {
     "data": {
      "text/plain": [
       "Tool(name='add', description='Add\\n\\nAdd two numbers\\n\\nArgs:\\n    a (int): first number\\n    b (int): second number\\n    \\nReturns:\\n    dict: a dictionary with the sum\\n\\n### Responses:\\n\\n**200**: Successful Response (Success Response)\\nContent-Type: application/json\\n\\n**Output Schema:**\\n```json\\n{\\n  \"type\": \"object\",\\n  \"additionalProperties\": true,\\n  \"title\": \"Response Add\"\\n}\\n```\\n**422**: Validation Error\\nContent-Type: application/json\\n\\n**Example Response:**\\n```json\\n{\\n  \"detail\": [\\n    {\\n      \"loc\": [],\\n      \"msg\": \"Message\",\\n      \"type\": \"Error Type\"\\n    }\\n  ]\\n}\\n```\\n\\n**Output Schema:**\\n```json\\n{\\n  \"properties\": {\\n    \"detail\": {\\n      \"items\": {\\n        \"properties\": {\\n          \"loc\": {\\n            \"items\": {},\\n            \"type\": \"array\",\\n            \"title\": \"Location\"\\n          },\\n          \"msg\": {\\n            \"type\": \"string\",\\n            \"title\": \"Message\"\\n          },\\n          \"type\": {\\n            \"type\": \"string\",\\n            \"title\": \"Error Type\"\\n          }\\n        },\\n        \"type\": \"object\",\\n        \"required\": [\\n          \"loc\",\\n          \"msg\",\\n          \"type\"\\n        ],\\n        \"title\": \"ValidationError\"\\n      },\\n      \"type\": \"array\",\\n      \"title\": \"Detail\"\\n    }\\n  },\\n  \"type\": \"object\",\\n  \"title\": \"HTTPValidationError\"\\n}\\n```', inputSchema={'type': 'object', 'properties': {'a': {'type': 'integer', 'title': 'a'}, 'b': {'type': 'integer', 'title': 'b'}}, 'title': 'addArguments', 'required': ['a', 'b']}, annotations=None)"
      ]
     },
     "execution_count": 9,
     "metadata": {},
     "output_type": "execute_result"
    }
   ],
   "source": [
    "tools[0]"
   ]
  },
  {
   "cell_type": "code",
   "execution_count": 203,
   "id": "b74869f7",
   "metadata": {},
   "outputs": [],
   "source": [
    "from typing import Annotated, _AnnotatedAlias, _LiteralGenericAlias\n",
    "from typing import get_type_hints, get_args, get_origin\n",
    "\n",
    "def map_format(annotation):\n",
    "    _format = annotation\n",
    "    if _format is int:\n",
    "        return \"integer\"\n",
    "    if _format is str:\n",
    "        return \"string\"\n",
    "    if _format is bool:\n",
    "        return \"boolean\"\n",
    "    if _format is float:\n",
    "        return \"number\"\n",
    "    if isinstance(_format, _LiteralGenericAlias):\n",
    "        _args = _format.__args__[0]\n",
    "        if isinstance(_args, str):\n",
    "            return \"string\"\n",
    "        if isinstance(_args, int):\n",
    "            return \"integer\"\n",
    "    raise ValueError(f\"Unsupported type: {_format}\")\n",
    "\n",
    "def get_properties(annotations:dict) -> dict:\n",
    "    properties = {}\n",
    "    for param, anno in annotations.items():\n",
    "        if isinstance(anno, _AnnotatedAlias):\n",
    "            _type = map_format(get_args(anno)[0])\n",
    "            _description = get_args(anno)[1]\n",
    "            _param = {\n",
    "                \"type\": _type, \n",
    "                \"description\": _description,\n",
    "            }\n",
    "            if isinstance(get_args(anno)[0], _LiteralGenericAlias):\n",
    "                _param[\"enum\"] = list(get_args(get_args(anno)[0]))\n",
    "                \n",
    "            properties[param] = _param\n",
    "\n",
    "    return properties\n",
    "\n",
    "def tool_request(func):\n",
    "    annotations = func.__annotations__\n",
    "    defaults = func.__defaults__ or []\n",
    "    properties = get_properties(annotations)\n",
    "    n_params = len(properties)\n",
    "    required = list(properties.keys())[0:n_params-len(defaults)]\n",
    "    return {\n",
    "        \"type\": \"function\",\n",
    "        \"function\": {\n",
    "            \"name\": func.__name__,\n",
    "            \"description\": func.__doc__,\n",
    "            \"parameters\": {\n",
    "                \"type\": \"object\",\n",
    "                \"properties\": properties\n",
    "            },\n",
    "        \"required\": required\n",
    "        }\n",
    "    }\n",
    "\n",
    "def tool_response(tool_prompt:dict):\n",
    "    name = tool_prompt[\"function\"][\"name\"]\n",
    "    properties = tool_prompt[\"function\"][\"parameters\"][\"properties\"]\n",
    "    arguments = {}\n",
    "    for param, property in properties.items():\n",
    "        arguments[param] = property['description']\n",
    "    return {\n",
    "        \"function\": {\n",
    "            \"name\": name,\n",
    "            \"arguments\": arguments\n",
    "        }\n",
    "    }"
   ]
  },
  {
   "cell_type": "code",
   "execution_count": 204,
   "id": "7e53c433",
   "metadata": {},
   "outputs": [],
   "source": [
    "from typing import Annotated, _AnnotatedAlias, Literal\n",
    "\n",
    "def test_function(a: Annotated[int, \"first integer\"], \n",
    "                  b: Annotated[float, \"second float\"],\n",
    "                  c: Annotated[str, \"third string\"] = \"default\",\n",
    "                  d: Annotated[Literal[\"optional\", \"value\"], \"forth literal\"] = \"optional_value\"\n",
    "                  ) -> int:\n",
    "    \"\"\"This is a test function\"\"\"\n",
    "    return a+b\n",
    "\n",
    "# dir(test_function)"
   ]
  },
  {
   "cell_type": "code",
   "execution_count": 205,
   "id": "c0373e80",
   "metadata": {},
   "outputs": [
    {
     "name": "stdout",
     "output_type": "stream",
     "text": [
      "{\n",
      "  \"type\": \"function\",\n",
      "  \"function\": {\n",
      "    \"name\": \"test_function\",\n",
      "    \"description\": \"This is a test function\",\n",
      "    \"parameters\": {\n",
      "      \"type\": \"object\",\n",
      "      \"properties\": {\n",
      "        \"a\": {\n",
      "          \"type\": \"integer\",\n",
      "          \"description\": \"first integer\"\n",
      "        },\n",
      "        \"b\": {\n",
      "          \"type\": \"number\",\n",
      "          \"description\": \"second float\"\n",
      "        },\n",
      "        \"c\": {\n",
      "          \"type\": \"string\",\n",
      "          \"description\": \"third string\"\n",
      "        },\n",
      "        \"d\": {\n",
      "          \"type\": \"string\",\n",
      "          \"description\": \"forth literal\",\n",
      "          \"enum\": [\n",
      "            \"optional\",\n",
      "            \"value\"\n",
      "          ]\n",
      "        }\n",
      "      }\n",
      "    },\n",
      "    \"required\": [\n",
      "      \"a\",\n",
      "      \"b\"\n",
      "    ]\n",
      "  }\n",
      "}\n"
     ]
    }
   ],
   "source": [
    "import json\n",
    "tool_prompt = tool_request(test_function)\n",
    "print(json.dumps(tool_prompt, indent=2))"
   ]
  },
  {
   "cell_type": "code",
   "execution_count": 206,
   "id": "4fb0bd1e",
   "metadata": {},
   "outputs": [
    {
     "data": {
      "text/plain": [
       "{'function': {'name': 'test_function',\n",
       "  'arguments': {'a': 'first integer',\n",
       "   'b': 'second float',\n",
       "   'c': 'third string',\n",
       "   'd': 'forth literal'}}}"
      ]
     },
     "execution_count": 206,
     "metadata": {},
     "output_type": "execute_result"
    }
   ],
   "source": [
    "tool_response(tool_prompt)"
   ]
  },
  {
   "cell_type": "code",
   "execution_count": 136,
   "id": "54c4926b",
   "metadata": {},
   "outputs": [
    {
     "data": {
      "text/plain": [
       "'test_function'"
      ]
     },
     "execution_count": 136,
     "metadata": {},
     "output_type": "execute_result"
    }
   ],
   "source": [
    "test_function.__name__"
   ]
  },
  {
   "cell_type": "code",
   "execution_count": 137,
   "id": "d338ff17",
   "metadata": {},
   "outputs": [
    {
     "data": {
      "text/plain": [
       "'This is a test function'"
      ]
     },
     "execution_count": 137,
     "metadata": {},
     "output_type": "execute_result"
    }
   ],
   "source": [
    "test_function.__doc__"
   ]
  },
  {
   "cell_type": "code",
   "execution_count": 173,
   "id": "d80d9835",
   "metadata": {},
   "outputs": [
    {
     "data": {
      "text/plain": [
       "typing.Annotated[typing.Literal['optional', 'value'], 'this is a test']"
      ]
     },
     "execution_count": 173,
     "metadata": {},
     "output_type": "execute_result"
    }
   ],
   "source": [
    "d = test_function.__annotations__['d']\n",
    "d"
   ]
  },
  {
   "cell_type": "code",
   "execution_count": 178,
   "id": "8d9a5194",
   "metadata": {},
   "outputs": [
    {
     "data": {
      "text/plain": [
       "('optional', 'value')"
      ]
     },
     "execution_count": 178,
     "metadata": {},
     "output_type": "execute_result"
    }
   ],
   "source": [
    "get_args(get_args(d)[0])"
   ]
  },
  {
   "cell_type": "code",
   "execution_count": 102,
   "id": "22f39961",
   "metadata": {},
   "outputs": [
    {
     "data": {
      "text/plain": [
       "[]"
      ]
     },
     "execution_count": 102,
     "metadata": {},
     "output_type": "execute_result"
    }
   ],
   "source": [
    "[1,2,3][:0]"
   ]
  },
  {
   "cell_type": "code",
   "execution_count": 51,
   "id": "a02ce0dc",
   "metadata": {},
   "outputs": [
    {
     "data": {
      "text/plain": [
       "(2, 'default')"
      ]
     },
     "execution_count": 51,
     "metadata": {},
     "output_type": "execute_result"
    }
   ],
   "source": [
    "test_function.__defaults__"
   ]
  },
  {
   "cell_type": "code",
   "execution_count": null,
   "id": "b32c989e",
   "metadata": {},
   "outputs": [
    {
     "name": "stdout",
     "output_type": "stream",
     "text": [
      "Add\n",
      "\n",
      "Add two numbers\n",
      "\n",
      "Args:\n",
      "    a (int): first number\n",
      "    b (int): second number\n",
      "    \n",
      "Returns:\n",
      "    dict: a dictionary with the sum\n",
      "\n",
      "### Responses:\n",
      "\n",
      "**200**: Successful Response (Success Response)\n",
      "Content-Type: application/json\n",
      "\n",
      "**Output Schema:**\n",
      "```json\n",
      "{\n",
      "  \"type\": \"object\",\n",
      "  \"additionalProperties\": true,\n",
      "  \"title\": \"Response Add\"\n",
      "}\n",
      "```\n",
      "**422**: Validation Error\n",
      "Content-Type: application/json\n",
      "\n",
      "**Example Response:**\n",
      "```json\n",
      "{\n",
      "  \"detail\": [\n",
      "    {\n",
      "      \"loc\": [],\n",
      "      \"msg\": \"Message\",\n",
      "      \"type\": \"Error Type\"\n",
      "    }\n",
      "  ]\n",
      "}\n",
      "```\n",
      "\n",
      "**Output Schema:**\n",
      "```json\n",
      "{\n",
      "  \"properties\": {\n",
      "    \"detail\": {\n",
      "      \"items\": {\n",
      "        \"properties\": {\n",
      "          \"loc\": {\n",
      "            \"items\": {},\n",
      "            \"type\": \"array\",\n",
      "            \"title\": \"Location\"\n",
      "          },\n",
      "          \"msg\": {\n",
      "            \"type\": \"string\",\n",
      "            \"title\": \"Message\"\n",
      "          },\n",
      "          \"type\": {\n",
      "            \"type\": \"string\",\n",
      "            \"title\": \"Error Type\"\n",
      "          }\n",
      "        },\n",
      "        \"type\": \"object\",\n",
      "        \"required\": [\n",
      "          \"loc\",\n",
      "          \"msg\",\n",
      "          \"type\"\n",
      "        ],\n",
      "        \"title\": \"ValidationError\"\n",
      "      },\n",
      "      \"type\": \"array\",\n",
      "      \"title\": \"Detail\"\n",
      "    }\n",
      "  },\n",
      "  \"type\": \"object\",\n",
      "  \"title\": \"HTTPValidationError\"\n",
      "}\n",
      "```\n"
     ]
    }
   ],
   "source": [
    "tool = tools[0]\n",
    "print(tool.description)"
   ]
  },
  {
   "cell_type": "code",
   "execution_count": 19,
   "id": "797acd92",
   "metadata": {},
   "outputs": [
    {
     "data": {
      "text/plain": [
       "'How can I assist you today?'"
      ]
     },
     "execution_count": 19,
     "metadata": {},
     "output_type": "execute_result"
    }
   ],
   "source": [
    "model.run(\n",
    "    system_prompt=\"You are a helpful assistant.\",\n",
    "    messages=[\n",
    "    model.UserMessage(\"Hi there\")\n",
    "])"
   ]
  },
  {
   "cell_type": "code",
   "execution_count": null,
   "id": "068cc35a",
   "metadata": {},
   "outputs": [],
   "source": []
  }
 ],
 "metadata": {
  "kernelspec": {
   "display_name": ".venv",
   "language": "python",
   "name": "python3"
  },
  "language_info": {
   "codemirror_mode": {
    "name": "ipython",
    "version": 3
   },
   "file_extension": ".py",
   "mimetype": "text/x-python",
   "name": "python",
   "nbconvert_exporter": "python",
   "pygments_lexer": "ipython3",
   "version": "3.11.11"
  }
 },
 "nbformat": 4,
 "nbformat_minor": 5
}
