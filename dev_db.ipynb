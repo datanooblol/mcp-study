{
 "cells": [
  {
   "cell_type": "markdown",
   "id": "352528ed",
   "metadata": {},
   "source": [
    "# Test pgvector"
   ]
  },
  {
   "cell_type": "markdown",
   "id": "8f806b5d",
   "metadata": {},
   "source": [
    "## Setup"
   ]
  },
  {
   "cell_type": "code",
   "execution_count": 1,
   "id": "f83442ba",
   "metadata": {},
   "outputs": [],
   "source": [
    "from sqlmodel import SQLModel, Field, create_engine, Session, select, JSON\n",
    "from sqlalchemy.dialects.postgresql import JSONB\n",
    "from sqlmodel import text\n",
    "from typing import Any\n",
    "from pgvector.sqlalchemy import Vector\n",
    "from uuid import uuid4\n",
    "\n",
    "VECTOR_SIZE = 3\n",
    "\n",
    "USERNAME = \"myuser\"\n",
    "PASSWORD = \"mypassword\"\n",
    "HOST = \"localhost\"\n",
    "PORT = 5432\n",
    "DATABASE_NAME = \"mydb\"\n",
    "DATABASE_URL = f\"postgresql://{USERNAME}:{PASSWORD}@{HOST}:{PORT}/{DATABASE_NAME}\""
   ]
  },
  {
   "cell_type": "markdown",
   "id": "3aa87a42",
   "metadata": {},
   "source": [
    "## Create Engine and Extension"
   ]
  },
  {
   "cell_type": "code",
   "execution_count": 2,
   "id": "17767519",
   "metadata": {},
   "outputs": [],
   "source": [
    "engine = create_engine(DATABASE_URL, echo=False)"
   ]
  },
  {
   "cell_type": "code",
   "execution_count": 3,
   "id": "c7b1bda5",
   "metadata": {},
   "outputs": [],
   "source": [
    "with engine.connect() as conn:\n",
    "    conn.execute(text('CREATE EXTENSION IF NOT EXISTS vector;'))\n",
    "    conn.commit()"
   ]
  },
  {
   "cell_type": "markdown",
   "id": "299bc03e",
   "metadata": {},
   "source": [
    "## Create LongTermMemory"
   ]
  },
  {
   "cell_type": "code",
   "execution_count": 4,
   "id": "192d9150",
   "metadata": {},
   "outputs": [],
   "source": [
    "class LongTermMemory(SQLModel, table=True, extend_existing=True):\n",
    "    id: str = Field(primary_key=True, default_factory=lambda: str(uuid4()))\n",
    "    context: str\n",
    "    embedding: Any = Field(sa_type=Vector(VECTOR_SIZE))\n",
    "    meta: dict = Field(sa_type=JSONB, default_factory=dict)"
   ]
  },
  {
   "cell_type": "code",
   "execution_count": 5,
   "id": "f61c601c",
   "metadata": {},
   "outputs": [],
   "source": [
    "SQLModel.metadata.create_all(engine)"
   ]
  },
  {
   "cell_type": "markdown",
   "id": "dd137dd5",
   "metadata": {},
   "source": [
    "# Add"
   ]
  },
  {
   "cell_type": "code",
   "execution_count": 6,
   "id": "d01a2b32",
   "metadata": {},
   "outputs": [],
   "source": [
    "with Session(engine) as session:\n",
    "    ls_mem = LongTermMemory(context=\"first context\", embedding=[0.0, 0.0, 0.0], meta={\"source\":\"a\"})\n",
    "    session.add(ls_mem)\n",
    "    session.commit()"
   ]
  },
  {
   "cell_type": "code",
   "execution_count": null,
   "id": "cd1e1e3b",
   "metadata": {},
   "outputs": [],
   "source": [
    "rows = [\n",
    "    LongTermMemory(context=\"second context\", embedding=[0.1, 0.1, 0.1], meta={\"source\": \"b\"}),\n",
    "    LongTermMemory(context=\"third context\", embedding=[-0.1, -0.1, -0.1], meta={\"source\": \"c\"}),\n",
    "    LongTermMemory(context=\"forth context\", embedding=[0.1, 0.0, 0.0], meta={\"source\": \"a\"}),\n",
    "    LongTermMemory(context=\"fifth context\", embedding=[-0.1, 0.0, 0.0]),\n",
    "    LongTermMemory(context=\"sixth context\", embedding=[0.0, 0.0, 0.1]),\n",
    "    LongTermMemory(context=\"seventh context\", embedding=[0.0, 0.0, -0.1]),\n",
    "]\n",
    "\n",
    "with Session(engine) as session:\n",
    "    session.add_all(rows)\n",
    "    session.commit()"
   ]
  },
  {
   "cell_type": "code",
   "execution_count": 8,
   "id": "2812996c",
   "metadata": {},
   "outputs": [
    {
     "data": {
      "text/plain": [
       "[LongTermMemory(context='first context', id='8a029eec-b159-486f-af28-004f5055c602', embedding=array([0., 0., 0.], dtype=float32), meta={'source': 'a'}),\n",
       " LongTermMemory(context='second context', id='541b73c0-a316-49fd-b50a-d11cdd2a5942', embedding=array([0.1, 0.1, 0.1], dtype=float32), meta={'source': 'b'}),\n",
       " LongTermMemory(context='third context', id='9fd62b18-e36b-4e1f-934c-afe5a2680544', embedding=array([-0.1, -0.1, -0.1], dtype=float32), meta={'source': 'c'}),\n",
       " LongTermMemory(context='forth context', id='300ef578-efe5-4d07-a2bd-a08eff200ff6', embedding=array([0.1, 0. , 0. ], dtype=float32), meta={'source': 'a'}),\n",
       " LongTermMemory(context='fifth context', id='3b7004ec-01f3-4e9d-9802-8e5ea70400d1', embedding=array([-0.1,  0. ,  0. ], dtype=float32), meta={}),\n",
       " LongTermMemory(context='sixth context', id='87ba351e-a612-4d95-8ac9-75df6aa33268', embedding=array([0. , 0. , 0.1], dtype=float32), meta={}),\n",
       " LongTermMemory(context='seventh context', id='5cf96980-31aa-459a-88a9-8736a0e9d08b', embedding=array([ 0. ,  0. , -0.1], dtype=float32), meta={})]"
      ]
     },
     "execution_count": 8,
     "metadata": {},
     "output_type": "execute_result"
    }
   ],
   "source": [
    "with Session(engine) as session:\n",
    "    results = session.exec(select(LongTermMemory)).all()\n",
    "\n",
    "results"
   ]
  },
  {
   "cell_type": "code",
   "execution_count": 6,
   "id": "9f8c6c3b",
   "metadata": {},
   "outputs": [
    {
     "data": {
      "text/plain": [
       "[LongTermMemory(context='first context', id='8a029eec-b159-486f-af28-004f5055c602', embedding=array([0., 0., 0.], dtype=float32), meta={'source': 'a'}),\n",
       " LongTermMemory(context='forth context', id='300ef578-efe5-4d07-a2bd-a08eff200ff6', embedding=array([0.1, 0. , 0. ], dtype=float32), meta={'source': 'a'}),\n",
       " LongTermMemory(context='sixth context', id='87ba351e-a612-4d95-8ac9-75df6aa33268', embedding=array([0. , 0. , 0.1], dtype=float32), meta={}),\n",
       " LongTermMemory(context='seventh context', id='5cf96980-31aa-459a-88a9-8736a0e9d08b', embedding=array([ 0. ,  0. , -0.1], dtype=float32), meta={}),\n",
       " LongTermMemory(context='fifth context', id='3b7004ec-01f3-4e9d-9802-8e5ea70400d1', embedding=array([-0.1,  0. ,  0. ], dtype=float32), meta={})]"
      ]
     },
     "execution_count": 6,
     "metadata": {},
     "output_type": "execute_result"
    }
   ],
   "source": [
    "with Session(engine) as session:\n",
    "    results = session.exec(select(LongTermMemory).order_by(LongTermMemory.embedding.l2_distance([0.0, 0.0, 0.0])).limit(5)).all()\n",
    "\n",
    "results"
   ]
  },
  {
   "cell_type": "code",
   "execution_count": 8,
   "id": "953c0010",
   "metadata": {},
   "outputs": [
    {
     "data": {
      "text/plain": [
       "[('8a029eec-b159-486f-af28-004f5055c602', 'first context', '[0,0,0]', {'source': 'a'}),\n",
       " ('300ef578-efe5-4d07-a2bd-a08eff200ff6', 'forth context', '[0.1,0,0]', {'source': 'a'})]"
      ]
     },
     "execution_count": 8,
     "metadata": {},
     "output_type": "execute_result"
    }
   ],
   "source": [
    "with Session(engine) as session:\n",
    "    result = session.exec(text(\"\"\"\n",
    "        SELECT * FROM longtermmemory WHERE meta @> '{\"source\": \"a\"}'\n",
    "    \"\"\")).all()\n",
    "\n",
    "result"
   ]
  },
  {
   "cell_type": "code",
   "execution_count": null,
   "id": "d27c178f",
   "metadata": {},
   "outputs": [],
   "source": []
  }
 ],
 "metadata": {
  "kernelspec": {
   "display_name": ".venv",
   "language": "python",
   "name": "python3"
  },
  "language_info": {
   "codemirror_mode": {
    "name": "ipython",
    "version": 3
   },
   "file_extension": ".py",
   "mimetype": "text/x-python",
   "name": "python",
   "nbconvert_exporter": "python",
   "pygments_lexer": "ipython3",
   "version": "3.11.11"
  }
 },
 "nbformat": 4,
 "nbformat_minor": 5
}
