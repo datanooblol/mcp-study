{
 "cells": [
  {
   "cell_type": "markdown",
   "id": "352528ed",
   "metadata": {},
   "source": [
    "# Test pgvector"
   ]
  },
  {
   "cell_type": "markdown",
   "id": "8f806b5d",
   "metadata": {},
   "source": [
    "## Setup"
   ]
  },
  {
   "cell_type": "code",
   "execution_count": 1,
   "id": "f83442ba",
   "metadata": {},
   "outputs": [],
   "source": [
    "from sqlmodel import SQLModel, Field, create_engine, Session, select, JSON\n",
    "from sqlalchemy.dialects.postgresql import JSONB\n",
    "from sqlmodel import text\n",
    "from typing import Any\n",
    "from pgvector.sqlalchemy import Vector\n",
    "from uuid import uuid4\n",
    "\n",
    "VECTOR_SIZE = 3\n",
    "\n",
    "USERNAME = \"myuser\"\n",
    "PASSWORD = \"mypassword\"\n",
    "HOST = \"localhost\"\n",
    "PORT = 5432\n",
    "DATABASE_NAME = \"mydb\"\n",
    "DATABASE_URL = f\"postgresql://{USERNAME}:{PASSWORD}@{HOST}:{PORT}/{DATABASE_NAME}\""
   ]
  },
  {
   "cell_type": "markdown",
   "id": "3aa87a42",
   "metadata": {},
   "source": [
    "## Create Engine and Extension"
   ]
  },
  {
   "cell_type": "code",
   "execution_count": 2,
   "id": "17767519",
   "metadata": {},
   "outputs": [],
   "source": [
    "engine = create_engine(DATABASE_URL, echo=False)"
   ]
  },
  {
   "cell_type": "code",
   "execution_count": 3,
   "id": "c7b1bda5",
   "metadata": {},
   "outputs": [],
   "source": [
    "with engine.connect() as conn:\n",
    "    conn.execute(text('CREATE EXTENSION IF NOT EXISTS vector;'))\n",
    "    conn.commit()"
   ]
  },
  {
   "cell_type": "code",
   "execution_count": 35,
   "id": "20813642",
   "metadata": {},
   "outputs": [],
   "source": [
    "query = \"\"\"\\\n",
    "CREATE EXTENSION IF NOT EXISTS pg_trgm;\n",
    "\"\"\".strip()\n",
    "with engine.connect() as conn:\n",
    "    conn.execute(text(query))\n",
    "    conn.commit()"
   ]
  },
  {
   "cell_type": "code",
   "execution_count": 6,
   "id": "fecfe405",
   "metadata": {},
   "outputs": [],
   "source": [
    "query = \"\"\"\\\n",
    "ALTER TABLE longtermmemory\n",
    "ADD COLUMN context_tsv tsvector\n",
    "    GENERATED ALWAYS AS (to_tsvector('english', context)) STORED;\n",
    "\n",
    "CREATE INDEX idx_ltm_context_tsv ON longtermmemory USING GIN (context_tsv);\n",
    "\"\"\".strip()\n",
    "\n",
    "with engine.connect() as conn:\n",
    "    conn.execute(text(query))\n",
    "    conn.commit()"
   ]
  },
  {
   "cell_type": "code",
   "execution_count": 28,
   "id": "b1a9255b",
   "metadata": {},
   "outputs": [],
   "source": [
    "query = \"\"\"\\\n",
    "CREATE INDEX idx_ltm_context_tsv\n",
    "ON longtermmemory\n",
    "USING GIN (to_tsvector('english', context));\n",
    "\"\"\".strip()\n",
    "with engine.connect() as conn:\n",
    "    conn.execute(text(query))\n",
    "    conn.commit()"
   ]
  },
  {
   "cell_type": "markdown",
   "id": "299bc03e",
   "metadata": {},
   "source": [
    "## Create LongTermMemory"
   ]
  },
  {
   "cell_type": "code",
   "execution_count": 4,
   "id": "192d9150",
   "metadata": {},
   "outputs": [],
   "source": [
    "class LongTermMemory(SQLModel, table=True, extend_existing=True):\n",
    "    id: str = Field(primary_key=True, default_factory=lambda: str(uuid4()))\n",
    "    context: str\n",
    "    embedding: Any = Field(sa_type=Vector(VECTOR_SIZE))\n",
    "    meta: dict = Field(sa_type=JSONB, default_factory=dict)"
   ]
  },
  {
   "cell_type": "code",
   "execution_count": 5,
   "id": "f61c601c",
   "metadata": {},
   "outputs": [],
   "source": [
    "SQLModel.metadata.create_all(engine)"
   ]
  },
  {
   "cell_type": "markdown",
   "id": "dd137dd5",
   "metadata": {},
   "source": [
    "# Add"
   ]
  },
  {
   "cell_type": "code",
   "execution_count": 7,
   "id": "d01a2b32",
   "metadata": {},
   "outputs": [],
   "source": [
    "with Session(engine) as session:\n",
    "    ls_mem = LongTermMemory(context=\"first context\", embedding=[0.0, 0.0, 0.0], meta={\"source\":\"a\"})\n",
    "    session.add(ls_mem)\n",
    "    session.commit()"
   ]
  },
  {
   "cell_type": "code",
   "execution_count": 8,
   "id": "cd1e1e3b",
   "metadata": {},
   "outputs": [],
   "source": [
    "rows = [\n",
    "    LongTermMemory(context=\"second context\", embedding=[0.1, 0.1, 0.1], meta={\"source\": \"b\"}),\n",
    "    LongTermMemory(context=\"third context\", embedding=[-0.1, -0.1, -0.1], meta={\"source\": \"c\"}),\n",
    "    LongTermMemory(context=\"forth context\", embedding=[0.1, 0.0, 0.0], meta={\"source\": \"a\"}),\n",
    "    LongTermMemory(context=\"fifth context\", embedding=[-0.1, 0.0, 0.0]),\n",
    "    LongTermMemory(context=\"sixth context\", embedding=[0.0, 0.0, 0.1]),\n",
    "    LongTermMemory(context=\"seventh context\", embedding=[0.0, 0.0, -0.1]),\n",
    "]\n",
    "\n",
    "with Session(engine) as session:\n",
    "    session.add_all(rows)\n",
    "    session.commit()"
   ]
  },
  {
   "cell_type": "markdown",
   "id": "a580ee90",
   "metadata": {},
   "source": [
    "# Select"
   ]
  },
  {
   "cell_type": "code",
   "execution_count": 9,
   "id": "2812996c",
   "metadata": {},
   "outputs": [
    {
     "data": {
      "text/plain": [
       "[LongTermMemory(meta={'source': 'a'}, context='first context', id='c4324459-9268-465e-b635-aefeaa9a98da', embedding=array([0., 0., 0.], dtype=float32)),\n",
       " LongTermMemory(meta={'source': 'b'}, context='second context', id='3d9c08ff-ed8c-4b49-a838-600f1e9a70a5', embedding=array([0.1, 0.1, 0.1], dtype=float32)),\n",
       " LongTermMemory(meta={'source': 'c'}, context='third context', id='30b8666a-db00-4000-afe4-ae1c5043aa67', embedding=array([-0.1, -0.1, -0.1], dtype=float32)),\n",
       " LongTermMemory(meta={'source': 'a'}, context='forth context', id='d65c2659-0492-4877-8673-226d7b226dde', embedding=array([0.1, 0. , 0. ], dtype=float32)),\n",
       " LongTermMemory(meta={}, context='fifth context', id='4c193349-b428-4076-bf2f-b86cad3c41e4', embedding=array([-0.1,  0. ,  0. ], dtype=float32)),\n",
       " LongTermMemory(meta={}, context='sixth context', id='e40a95bc-e74b-4247-b2a3-d0b1afcd2c2a', embedding=array([0. , 0. , 0.1], dtype=float32)),\n",
       " LongTermMemory(meta={}, context='seventh context', id='dd0ceeba-d3f3-4135-bb93-2a21adea6f5e', embedding=array([ 0. ,  0. , -0.1], dtype=float32))]"
      ]
     },
     "execution_count": 9,
     "metadata": {},
     "output_type": "execute_result"
    }
   ],
   "source": [
    "with Session(engine) as session:\n",
    "    results = session.exec(select(LongTermMemory)).all()\n",
    "\n",
    "results"
   ]
  },
  {
   "cell_type": "code",
   "execution_count": 10,
   "id": "9f8c6c3b",
   "metadata": {},
   "outputs": [
    {
     "data": {
      "text/plain": [
       "[LongTermMemory(meta={'source': 'a'}, context='first context', id='c4324459-9268-465e-b635-aefeaa9a98da', embedding=array([0., 0., 0.], dtype=float32)),\n",
       " LongTermMemory(meta={'source': 'a'}, context='forth context', id='d65c2659-0492-4877-8673-226d7b226dde', embedding=array([0.1, 0. , 0. ], dtype=float32)),\n",
       " LongTermMemory(meta={}, context='sixth context', id='e40a95bc-e74b-4247-b2a3-d0b1afcd2c2a', embedding=array([0. , 0. , 0.1], dtype=float32)),\n",
       " LongTermMemory(meta={}, context='seventh context', id='dd0ceeba-d3f3-4135-bb93-2a21adea6f5e', embedding=array([ 0. ,  0. , -0.1], dtype=float32)),\n",
       " LongTermMemory(meta={}, context='fifth context', id='4c193349-b428-4076-bf2f-b86cad3c41e4', embedding=array([-0.1,  0. ,  0. ], dtype=float32))]"
      ]
     },
     "execution_count": 10,
     "metadata": {},
     "output_type": "execute_result"
    }
   ],
   "source": [
    "with Session(engine) as session:\n",
    "    results = session.exec(select(LongTermMemory).order_by(LongTermMemory.embedding.l2_distance([0.0, 0.0, 0.0])).limit(5)).all()\n",
    "\n",
    "results"
   ]
  },
  {
   "cell_type": "code",
   "execution_count": 11,
   "id": "953c0010",
   "metadata": {},
   "outputs": [
    {
     "data": {
      "text/plain": [
       "[('c4324459-9268-465e-b635-aefeaa9a98da', 'first context', '[0,0,0]', {'source': 'a'}, \"'context':2 'first':1\"),\n",
       " ('d65c2659-0492-4877-8673-226d7b226dde', 'forth context', '[0.1,0,0]', {'source': 'a'}, \"'context':2 'forth':1\")]"
      ]
     },
     "execution_count": 11,
     "metadata": {},
     "output_type": "execute_result"
    }
   ],
   "source": [
    "with Session(engine) as session:\n",
    "    result = session.exec(text(\"\"\"\n",
    "        SELECT * FROM longtermmemory WHERE meta @> '{\"source\": \"a\"}'\n",
    "    \"\"\")).all()\n",
    "\n",
    "result"
   ]
  },
  {
   "cell_type": "code",
   "execution_count": 12,
   "id": "d27c178f",
   "metadata": {},
   "outputs": [
    {
     "data": {
      "text/plain": [
       "[LongTermMemory(meta={'source': 'a'}, context='first context', id='c4324459-9268-465e-b635-aefeaa9a98da', embedding=array([0., 0., 0.], dtype=float32)),\n",
       " LongTermMemory(meta={'source': 'a'}, context='forth context', id='d65c2659-0492-4877-8673-226d7b226dde', embedding=array([0.1, 0. , 0. ], dtype=float32))]"
      ]
     },
     "execution_count": 12,
     "metadata": {},
     "output_type": "execute_result"
    }
   ],
   "source": [
    "import json\n",
    "top_n = 2\n",
    "vector = [0,0,0]\n",
    "with Session(engine) as session:\n",
    "    sql_orm = select(LongTermMemory).where(\n",
    "        # text(f\"\"\"meta @> '{json.dumps({\"source\": \"a\"})}'\"\"\")\n",
    "        # text(\"\"\"meta @> '{\"source\": \"a\"}'\"\"\")\n",
    "        text(\"meta @> :jsonb_filter\")\n",
    "    ).order_by(LongTermMemory.embedding.l2_distance(vector)).limit(top_n).params(jsonb_filter='{\"source\": \"a\"}')\n",
    "    results = session.exec(sql_orm).all()\n",
    "results"
   ]
  },
  {
   "cell_type": "code",
   "execution_count": 13,
   "id": "90447d24",
   "metadata": {},
   "outputs": [
    {
     "data": {
      "text/plain": [
       "[LongTermMemory(meta={'source': 'a'}, context='first context', id='c4324459-9268-465e-b635-aefeaa9a98da', embedding=array([0., 0., 0.], dtype=float32)),\n",
       " LongTermMemory(meta={'source': 'a'}, context='forth context', id='d65c2659-0492-4877-8673-226d7b226dde', embedding=array([0.1, 0. , 0. ], dtype=float32)),\n",
       " LongTermMemory(meta={'source': 'b'}, context='second context', id='3d9c08ff-ed8c-4b49-a838-600f1e9a70a5', embedding=array([0.1, 0.1, 0.1], dtype=float32))]"
      ]
     },
     "execution_count": 13,
     "metadata": {},
     "output_type": "execute_result"
    }
   ],
   "source": [
    "top_n = 5\n",
    "vector = [0,0,0]\n",
    "with Session(engine) as session:\n",
    "    sql_orm = select(LongTermMemory).where(\n",
    "        text(\"meta ->> 'source' = ANY(:sources)\")\n",
    "    ).order_by(LongTermMemory.embedding.l2_distance(vector)).limit(top_n).params(sources=[\"a\", \"b\"])\n",
    "    results = session.exec(sql_orm).all()\n",
    "results"
   ]
  },
  {
   "cell_type": "code",
   "execution_count": 14,
   "id": "2acc9745",
   "metadata": {},
   "outputs": [
    {
     "data": {
      "text/plain": [
       "[LongTermMemory(meta={'source': 'a'}, context='first context', id='c4324459-9268-465e-b635-aefeaa9a98da', embedding=array([0., 0., 0.], dtype=float32))]"
      ]
     },
     "execution_count": 14,
     "metadata": {},
     "output_type": "execute_result"
    }
   ],
   "source": [
    "query = \"first\"\n",
    "with Session(engine) as session:\n",
    "    sql_orm = select(LongTermMemory).where(\n",
    "        text(\"to_tsvector('english', context) @@ plainto_tsquery(:q)\")\n",
    "    ).params(q=query)\n",
    "    results = session.exec(sql_orm).all()\n",
    "results"
   ]
  },
  {
   "cell_type": "code",
   "execution_count": null,
   "id": "fbe906a8",
   "metadata": {},
   "outputs": [
    {
     "data": {
      "text/plain": [
       "[LongTermMemory(meta={'source': 'c'}, context='third context', id='30b8666a-db00-4000-afe4-ae1c5043aa67', embedding=array([-0.1, -0.1, -0.1], dtype=float32))]"
      ]
     },
     "execution_count": 33,
     "metadata": {},
     "output_type": "execute_result"
    }
   ],
   "source": [
    "query = \"th:* & context\"\n",
    "\n",
    "with Session(engine) as session:\n",
    "    sql_orm = select(LongTermMemory).where(\n",
    "        text(\"context_tsv @@ to_tsquery(:q)\")\n",
    "    ).order_by(text(\"ts_rank(context_tsv, to_tsquery('english', :q)) DESC\")).params(q=query)\n",
    "    results = session.exec(sql_orm).all()\n",
    "results"
   ]
  },
  {
   "cell_type": "code",
   "execution_count": 34,
   "id": "2145eb8c",
   "metadata": {},
   "outputs": [
    {
     "data": {
      "text/plain": [
       "[LongTermMemory(meta={'source': 'a'}, context='forth context', id='d65c2659-0492-4877-8673-226d7b226dde', embedding=array([0.1, 0. , 0. ], dtype=float32)),\n",
       " LongTermMemory(meta={}, context='fifth context', id='4c193349-b428-4076-bf2f-b86cad3c41e4', embedding=array([-0.1,  0. ,  0. ], dtype=float32)),\n",
       " LongTermMemory(meta={}, context='sixth context', id='e40a95bc-e74b-4247-b2a3-d0b1afcd2c2a', embedding=array([0. , 0. , 0.1], dtype=float32)),\n",
       " LongTermMemory(meta={}, context='seventh context', id='dd0ceeba-d3f3-4135-bb93-2a21adea6f5e', embedding=array([ 0. ,  0. , -0.1], dtype=float32))]"
      ]
     },
     "execution_count": 34,
     "metadata": {},
     "output_type": "execute_result"
    }
   ],
   "source": [
    "with Session(engine) as session:\n",
    "    query = select(LongTermMemory).where(\n",
    "        LongTermMemory.context.ilike(\"%th context%\")\n",
    "    )\n",
    "    results = session.exec(query).all()\n",
    "\n",
    "results"
   ]
  },
  {
   "cell_type": "code",
   "execution_count": 42,
   "id": "3dc167f3",
   "metadata": {},
   "outputs": [
    {
     "data": {
      "text/plain": [
       "[LongTermMemory(meta={}, context='seventh context', id='dd0ceeba-d3f3-4135-bb93-2a21adea6f5e', embedding=array([ 0. ,  0. , -0.1], dtype=float32)),\n",
       " LongTermMemory(meta={'source': 'b'}, context='second context', id='3d9c08ff-ed8c-4b49-a838-600f1e9a70a5', embedding=array([0.1, 0.1, 0.1], dtype=float32)),\n",
       " LongTermMemory(meta={}, context='sixth context', id='e40a95bc-e74b-4247-b2a3-d0b1afcd2c2a', embedding=array([0. , 0. , 0.1], dtype=float32))]"
      ]
     },
     "execution_count": 42,
     "metadata": {},
     "output_type": "execute_result"
    }
   ],
   "source": [
    "misspelled = \"sevonth context\"\n",
    "\n",
    "with Session(engine) as session:\n",
    "    stmt = select(LongTermMemory).where(\n",
    "        text(\"similarity(context, :q) > 0.5\")\n",
    "    ).order_by(\n",
    "        text(\"similarity(context, :q) DESC\")\n",
    "    ).params(q=misspelled)\n",
    "\n",
    "    results = session.exec(stmt).all()\n",
    "\n",
    "results"
   ]
  }
 ],
 "metadata": {
  "kernelspec": {
   "display_name": ".venv",
   "language": "python",
   "name": "python3"
  },
  "language_info": {
   "codemirror_mode": {
    "name": "ipython",
    "version": 3
   },
   "file_extension": ".py",
   "mimetype": "text/x-python",
   "name": "python",
   "nbconvert_exporter": "python",
   "pygments_lexer": "ipython3",
   "version": "3.11.11"
  }
 },
 "nbformat": 4,
 "nbformat_minor": 5
}
